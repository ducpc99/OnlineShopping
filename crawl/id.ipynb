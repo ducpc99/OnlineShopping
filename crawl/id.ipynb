{
 "cells": [
  {
   "cell_type": "code",
   "execution_count": 19,
   "metadata": {},
   "outputs": [],
   "source": [
    "import requests\n",
    "import time\n",
    "import random\n",
    "import pandas as pd\n",
    "\n",
    "\n",
    "headers = {\n",
    "    'User-Agent': 'Mozilla/5.0 (Windows NT 10.0; Win64; x64) AppleWebKit/537.36 (KHTML, like Gecko) Chrome/125.0.0.0 Safari/537.36',\n",
    "    'Accept': 'application/json, text/plain, */*',\n",
    "    'Accept-Language': 'vi,vi-VN;q=0.9,fr-FR;q=0.8,fr;q=0.7,en-US;q=0.6,en;q=0.5',\n",
    "    'Referer': 'https://tiki.vn/dien-thoai-may-tinh-bang/c1789',\n",
    "    'x-guest-token': '5kBWiz8uXp20s4bSoIE3aNRUTwvMOLtd',\n",
    "    'Connection': 'keep-alive',\n",
    "    'TE': 'Trailers',\n",
    "}\n",
    "\n",
    "params = {\n",
    "    'limit': '40',\n",
    "    'include': 'advertisement',\n",
    "    'aggregations': '2',\n",
    "    'version' : 'home-persionalized',\n",
    "    'trackity_id': '9d53493a-18d8-eebc-e494-0f8ca2ff3a62',\n",
    "    'category': '1789',\n",
    "    'page': '1',\n",
    "    'src': 'c1883',\n",
    "    'urlKey':  'dien-thoai-may-tinh-bang',\n",
    "}\n"
   ]
  },
  {
   "cell_type": "code",
   "execution_count": 21,
   "metadata": {},
   "outputs": [],
   "source": [
    "product_id = []\n",
    "for i in range(1, 1000):\n",
    "    params['page'] = i\n",
    "    response = requests.get('https://tiki.vn/api/v2/products', headers=headers, params=params)#, cookies=cookies)\n",
    "    if response.status_code == 200:\n",
    "        print('request success!!!')\n",
    "        for record in response.json().get('data'):\n",
    "            product_id.append({'id': record.get('id')})\n",
    "    time.sleep(random.randrange(3, 10))\n",
    "\n",
    "df = pd.DataFrame(product_id)\n",
    "df.to_csv('product_id_ncds.csv', index=False)\n"
   ]
  }
 ],
 "metadata": {
  "kernelspec": {
   "display_name": "Python 3",
   "language": "python",
   "name": "python3"
  },
  "language_info": {
   "codemirror_mode": {
    "name": "ipython",
    "version": 3
   },
   "file_extension": ".py",
   "mimetype": "text/x-python",
   "name": "python",
   "nbconvert_exporter": "python",
   "pygments_lexer": "ipython3",
   "version": "3.11.9"
  }
 },
 "nbformat": 4,
 "nbformat_minor": 2
}
